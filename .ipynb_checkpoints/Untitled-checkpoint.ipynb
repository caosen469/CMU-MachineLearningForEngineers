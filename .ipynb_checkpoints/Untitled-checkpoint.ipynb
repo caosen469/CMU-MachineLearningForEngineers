{
 "cells": [
  {
   "cell_type": "markdown",
   "metadata": {},
   "source": [
    "Problem 1"
   ]
  },
  {
   "cell_type": "code",
   "execution_count": 251,
   "metadata": {},
   "outputs": [],
   "source": [
    "import numpy as np\n",
    "import math"
   ]
  },
  {
   "cell_type": "code",
   "execution_count": 269,
   "metadata": {},
   "outputs": [
    {
     "name": "stdout",
     "output_type": "stream",
     "text": [
      "[[1. 2.]]\n"
     ]
    },
    {
     "data": {
      "text/plain": [
       "(1, 2)"
      ]
     },
     "execution_count": 269,
     "metadata": {},
     "output_type": "execute_result"
    }
   ],
   "source": [
    "myArray = np.empty((0,2))\n",
    "newRow = np.asarray([[1,2]])\n",
    "myArray2 = np.append(myArray, newRow, axis=0)\n",
    "print(myArray2)\n",
    "myArray2.shape"
   ]
  },
  {
   "cell_type": "code",
   "execution_count": 369,
   "metadata": {},
   "outputs": [
    {
     "name": "stdout",
     "output_type": "stream",
     "text": [
      "[[-1.  3.]\n",
      " [ 0.  6.]\n",
      " [ 1.  8.]\n",
      " [ 2. 11.]\n",
      " [ 4. 17.]]\n",
      "[[-1.  0.  1.  2.  4.]\n",
      " [ 3.  6.  8. 11. 17.]]\n",
      "\n",
      "[-1.  0.  1.  2.  4.]\n",
      "[1. 1. 1. 1. 1.]\n",
      "\n",
      "(5,)\n",
      "(5,)\n",
      "[[ 1. -1.]\n",
      " [ 1.  0.]\n",
      " [ 1.  1.]\n",
      " [ 1.  2.]\n",
      " [ 1.  4.]]\n",
      "\n",
      "[ 3.  6.  8. 11. 17.]\n",
      "[45. 95.]\n"
     ]
    }
   ],
   "source": [
    "vitual_array\n",
    "test = vitual_array\n",
    "print(test)\n",
    "print(test.T)\n",
    "print()\n",
    "\n",
    "first_row = test[:,0]\n",
    "print(first_row)\n",
    "\n",
    "ones = np.ones((test.shape[0]))\n",
    "print(ones)\n",
    "print()\n",
    "print(ones.shape)\n",
    "print(first_row.shape)\n",
    "\n",
    "\n",
    "final = np.stack([ones, first_row], axis=1)\n",
    "print(final)\n",
    "\n",
    "print()\n",
    "Y = test[:,1]\n",
    "print(Y)\n",
    "Theta = final.T@Y\n",
    "print(Theta)"
   ]
  },
  {
   "cell_type": "code",
   "execution_count": 408,
   "metadata": {},
   "outputs": [],
   "source": [
    "def linear_regression2(*args):\n",
    "    print(type(args[0]))\n",
    "    if type(args[0]) is np.ndarray:\n",
    "        print(type(args[0]) is np.ndarray)\n",
    "        first_row = args[0][:,0]\n",
    "        ones = np.ones((args[0].shape[0]))\n",
    "        X = np.stack([ones, first_row], axis=1)\n",
    "        Y = args[0][:,1]\n",
    "        Theta = (np.linalg.inv(X.T@X))@X.T@Y\n",
    "    \n",
    "    return Theta"
   ]
  },
  {
   "cell_type": "code",
   "execution_count": 416,
   "metadata": {
    "scrolled": true
   },
   "outputs": [],
   "source": [
    "def linear_regression(*args):\n",
    "    \n",
    "    if type(args[0]) is np.ndarray:\n",
    "        print(type(args[0]) is np.ndarray)\n",
    "        first_row = args[0][:,0]\n",
    "        ones = np.ones((args[0].shape[0]))\n",
    "        X = np.stack([ones, first_row], axis=1)\n",
    "        Y = args[0][:,1]\n",
    "        Theta = (np.linalg.inv(X.T@X))@X.T@Y\n",
    "    \n",
    "        return Theta\n",
    "    \n",
    "    X = np.empty((0, 2))\n",
    "    Y = np.empty((0, 1))\n",
    "    #count = 100\n",
    "    for each in args:\n",
    "        #newRow = np.array([[each[0][0], each[0][1]]])\n",
    "        newRowX = np.array([[1, each[0]]])\n",
    "        newRowY = np.array([[each[1]]])\n",
    "        #print(newRow)\n",
    "        X = np.append(X, newRowX, axis=0)\n",
    "        Y = np.append(Y, newRowY, axis=0)\n",
    "    Theta = (np.linalg.inv(X.T@X))@X.T@Y\n",
    "    return Theta"
   ]
  },
  {
   "cell_type": "code",
   "execution_count": 417,
   "metadata": {},
   "outputs": [
    {
     "name": "stdout",
     "output_type": "stream",
     "text": [
      "[[5.67567568]\n",
      " [2.77027027]]\n",
      "True\n",
      "[5.67567568 2.77027027]\n"
     ]
    }
   ],
   "source": [
    "print(linear_regression([-1,3], [0,6], [1,8], [2,11], [4,17]))\n",
    "test = np.array([[-1,3], [0,6], [1,8], [2,11], [4,17]])\n",
    "#print(test)\n",
    "print(linear_regression(test))"
   ]
  },
  {
   "cell_type": "code",
   "execution_count": 324,
   "metadata": {},
   "outputs": [
    {
     "name": "stdout",
     "output_type": "stream",
     "text": [
      "[1, 2, 3]\n",
      "[4, 5, 6]\n"
     ]
    }
   ],
   "source": []
  },
  {
   "cell_type": "markdown",
   "metadata": {},
   "source": [
    "Problem 1-c"
   ]
  },
  {
   "cell_type": "code",
   "execution_count": 319,
   "metadata": {},
   "outputs": [],
   "source": [
    "import csv"
   ]
  },
  {
   "cell_type": "code",
   "execution_count": 492,
   "metadata": {},
   "outputs": [
    {
     "name": "stdout",
     "output_type": "stream",
     "text": [
      "True\n",
      "[ 4.08065714 -0.44236914]\n"
     ]
    }
   ],
   "source": [
    "X = np.empty((0, 2))\n",
    "Y = np.empty((0, 1))\n",
    "dataset = np.empty((0,2))\n",
    "with open('data.csv') as csv_file: \n",
    "    #has_header = csv.Sniffer().has_header(csv_file.read(1024))\n",
    "    has_header = csv.Sniffer().has_header(csv_file.read(1024))\n",
    "    csv_file.seek(0)  # Rewind.\n",
    "    csv_reader = csv.reader(csv_file, delimiter=',')\n",
    "    \n",
    "    if not has_header:\n",
    "        next(csv_reader)  # Skip header row.\n",
    "    for row in csv_reader:\n",
    "        newdata = np.array([[float(row[0]), float(row[1])]])\n",
    "        dataset = np.append(dataset, newdata, axis=0)\n",
    "    #dataset = np.stack([X[:,1], Y], axis=1)\n",
    "    \n",
    "print(linear_regression(dataset))"
   ]
  },
  {
   "cell_type": "code",
   "execution_count": 485,
   "metadata": {},
   "outputs": [],
   "source": [
    "# X = np.empty((0, 2))\n",
    "# Y = np.empty((0, 1))\n",
    "# with open('data.csv') as csv_file: \n",
    "#     #has_header = csv.Sniffer().has_header(csv_file.read(1024))\n",
    "#     has_header = csv.Sniffer().has_header(csv_file.read(1024))\n",
    "#     csv_file.seek(0)  # Rewind.\n",
    "#     csv_reader = csv.reader(csv_file, delimiter=',')\n",
    "#     print(not has_header)\n",
    "#     if not has_header:\n",
    "#         next(csv_reader)  # Skip header row.\n",
    "#     for row in csv_reader:\n",
    "#         X = np.append(X, np.array([[1, float(row[0])]]), axis=0)\n",
    "#         Y = np.append(Y, np.array([[float(row[1])]]), axis=0)\n",
    "#     #dataset = np.stack([X[:,1], Y], axis=1)\n",
    "#     dataset = np.stack([X[:,1].reshape((X.shape[0], 1)), Y], axis=1)\n",
    "# print(X[:,1].reshape((X.shape[0], 1)).shape)\n",
    "# print(Y.shape)\n"
   ]
  },
  {
   "cell_type": "markdown",
   "metadata": {},
   "source": [
    "Problem 2"
   ]
  },
  {
   "cell_type": "code",
   "execution_count": 37,
   "metadata": {},
   "outputs": [
    {
     "data": {
      "text/plain": [
       "'b'"
      ]
     },
     "execution_count": 37,
     "metadata": {},
     "output_type": "execute_result"
    }
   ],
   "source": [
    "a = 'abcd'\n"
   ]
  },
  {
   "cell_type": "code",
   "execution_count": 45,
   "metadata": {},
   "outputs": [],
   "source": [
    "def includes(item, val, start_ind=None):\n",
    "    if type(item) == list or type(item) == str:\n",
    "        if start_ind != None:\n",
    "            start = start_ind-1\n",
    "        else:\n",
    "            start = 0\n",
    "        while start < len(item):\n",
    "            if item[start] == val:\n",
    "                return True\n",
    "            start += 1\n",
    "        return False\n",
    "        \n",
    "    if type(item) == dict:\n",
    "        keys = item.keys()\n",
    "        keyList =[]\n",
    "        for each in keys:\n",
    "            keyList.append(each)\n",
    "        if start_ind != None:\n",
    "            start = start_ind-1\n",
    "        else:\n",
    "            start = 0\n",
    "        while start < len(keyList):\n",
    "            if item[keyList[start]] == val:\n",
    "                return True\n",
    "            start += 1\n",
    "        return False\n",
    "   "
   ]
  },
  {
   "cell_type": "markdown",
   "metadata": {},
   "source": [
    "Problem 2"
   ]
  },
  {
   "cell_type": "code",
   "execution_count": 63,
   "metadata": {},
   "outputs": [],
   "source": [
    "import numpy as np"
   ]
  },
  {
   "cell_type": "code",
   "execution_count": 71,
   "metadata": {},
   "outputs": [
    {
     "name": "stdout",
     "output_type": "stream",
     "text": [
      "[(1, 1), (2, 2), (3, 3), (4, 4), (5, 5), (6, 6), (7, 7)]\n"
     ]
    }
   ],
   "source": [
    "mylist = [1, 2, 3, 4, 5, 6, 7]\n",
    "print(list(enumerate(mylist, 1)))"
   ]
  },
  {
   "cell_type": "code",
   "execution_count": 73,
   "metadata": {},
   "outputs": [
    {
     "name": "stdout",
     "output_type": "stream",
     "text": [
      "[2.0]\n",
      "[2.0, 3.0]\n",
      "[2.0, 3.0, 4.0]\n",
      "[2.0, 3.0, 4.0, 5.0]\n",
      "[2.0, 3.0, 4.0, 5.0, 6.0]\n"
     ]
    }
   ],
   "source": [
    "\n",
    "N = 3\n",
    "cumsum, moving_aves = [0], []\n",
    "\n",
    "for i, x in enumerate(mylist, 1):\n",
    "    cumsum.append(cumsum[i-1] + x)\n",
    "    #print(cumsum)\n",
    "    if i >= N:\n",
    "        moving_ave = (cumsum[i] - cumsum[i-N])/N\n",
    "        moving_aves.append(moving_ave)\n",
    "        print(moving_aves)"
   ]
  },
  {
   "cell_type": "code",
   "execution_count": 93,
   "metadata": {},
   "outputs": [
    {
     "ename": "SyntaxError",
     "evalue": "invalid syntax (<ipython-input-93-8e784bba4f45>, line 5)",
     "output_type": "error",
     "traceback": [
      "\u001b[1;36m  File \u001b[1;32m\"<ipython-input-93-8e784bba4f45>\"\u001b[1;36m, line \u001b[1;32m5\u001b[0m\n\u001b[1;33m    global myList = []\u001b[0m\n\u001b[1;37m                  ^\u001b[0m\n\u001b[1;31mSyntaxError\u001b[0m\u001b[1;31m:\u001b[0m invalid syntax\n"
     ]
    }
   ],
   "source": [
    "def moving_average2(val=None):\n",
    "    mocing_average2.Count = 0\n",
    "    mocing_average2.myList = []\n",
    "    "
   ]
  },
  {
   "cell_type": "code",
   "execution_count": 92,
   "metadata": {},
   "outputs": [
    {
     "name": "stdout",
     "output_type": "stream",
     "text": [
      "False\n",
      "False\n",
      "False\n",
      "False\n"
     ]
    }
   ],
   "source": [
    "moving_average2(10)\n",
    "moving_average2(20)\n",
    "moving_average2(30)\n",
    "moving_average2(40)"
   ]
  },
  {
   "cell_type": "code",
   "execution_count": 21,
   "metadata": {},
   "outputs": [],
   "source": [
    "def moving_avergae(val = None):\n",
    "    moving_avergae.CallStack =[]\n",
    "    if not \"CallStack\" in dir() or val == \"clear\":\n",
    "        CallStack = 1\n",
    "        CallStack = []\n",
    "        print(\"CallStack\" in dir())\n",
    "    if val != None and val != \"clear\":\n",
    "        CallStack.append(val)\n",
    "        #print(CallStack[1])\n",
    "        "
   ]
  },
  {
   "cell_type": "code",
   "execution_count": 136,
   "metadata": {},
   "outputs": [],
   "source": [
    "CallStack = []\n",
    "Count = 0\n",
    "def moving_avergae(val = None):\n",
    "    global CallStack\n",
    "    global Count\n",
    "    if val == \"clear\":\n",
    "        CallStack = []\n",
    "        \n",
    "    if val != None:\n",
    "        CallStack.append(val)\n",
    "        #print(CallStack)\n",
    "        Count += 1\n",
    "    if val == None:\n",
    "        if Count == 0:\n",
    "            return 0\n",
    "        return sum(CallStack) / N\n",
    "    \n",
    "    return sum(CallStack) / N\n",
    "    \n",
    "    "
   ]
  },
  {
   "cell_type": "code",
   "execution_count": 137,
   "metadata": {},
   "outputs": [
    {
     "name": "stdout",
     "output_type": "stream",
     "text": [
      "0\n",
      "3.3333333333333335\n",
      "7.0\n",
      "11.0\n"
     ]
    }
   ],
   "source": [
    "print(moving_avergae())\n",
    "print(moving_avergae(10))\n",
    "print(moving_avergae(11))\n",
    "print(moving_avergae(12))"
   ]
  },
  {
   "cell_type": "code",
   "execution_count": 41,
   "metadata": {},
   "outputs": [
    {
     "name": "stdout",
     "output_type": "stream",
     "text": [
      "[1, 5, 6, 9, 9]\n"
     ]
    }
   ],
   "source": [
    "x = 19659\n",
    "x_str = str(x)\n",
    "DigitList = []\n",
    "for each in x_str:\n",
    "    DigitList.append(int(each))\n",
    "DigitList.sort()\n",
    "print(DigitList)"
   ]
  },
  {
   "cell_type": "markdown",
   "metadata": {},
   "source": [
    "Problem 2-(d)"
   ]
  },
  {
   "cell_type": "code",
   "execution_count": null,
   "metadata": {},
   "outputs": [],
   "source": []
  },
  {
   "cell_type": "markdown",
   "metadata": {},
   "source": [
    "Problem C"
   ]
  },
  {
   "cell_type": "code",
   "execution_count": 42,
   "metadata": {},
   "outputs": [],
   "source": [
    "def same_frequency(val1, val2):\n",
    "    if len(str(val1)) != len(str(val2)):\n",
    "        return False\n",
    "    x_str1 = str(val1)\n",
    "    DigitList1 = []\n",
    "    for each in x_str1:\n",
    "        DigitList1.append(int(each))\n",
    "    DigitList1.sort()\n",
    "    \n",
    "    x_str2 = str(val2)\n",
    "    DigitList2 = []\n",
    "    for each in x_str2:\n",
    "        DigitList2.append(int(each))\n",
    "    DigitList2.sort()\n",
    "    \n",
    "    for each in range(len(DigitList1)):\n",
    "        if (DigitList1[each] != DigitList2[each]):\n",
    "            return False\n",
    "    return True\n",
    "    "
   ]
  },
  {
   "cell_type": "code",
   "execution_count": 46,
   "metadata": {},
   "outputs": [
    {
     "name": "stdout",
     "output_type": "stream",
     "text": [
      "True\n",
      "False\n",
      "False\n",
      "True\n"
     ]
    }
   ],
   "source": [
    "print(same_frequency(551122,221515))\n",
    "print(same_frequency(321142,3212215))\n",
    "print(same_frequency(12345,31354))\n",
    "print(same_frequency(1212, 2211))"
   ]
  },
  {
   "cell_type": "raw",
   "metadata": {},
   "source": [
    "Problem d"
   ]
  },
  {
   "cell_type": "markdown",
   "metadata": {},
   "source": [
    "Question 3"
   ]
  },
  {
   "cell_type": "code",
   "execution_count": 180,
   "metadata": {},
   "outputs": [
    {
     "data": {
      "text/plain": [
       "3.0"
      ]
     },
     "execution_count": 180,
     "metadata": {},
     "output_type": "execute_result"
    }
   ],
   "source": [
    "import numpy as np\n",
    "np.log(math.exp(3))"
   ]
  },
  {
   "cell_type": "code",
   "execution_count": 246,
   "metadata": {},
   "outputs": [
    {
     "name": "stdout",
     "output_type": "stream",
     "text": [
      "0.4139089449572581\n"
     ]
    }
   ],
   "source": [
    "x = [7, 10, 5, 18, 12, 8, 15]\n",
    "sum = 0\n",
    "for each in x:\n",
    "    sum += np.log(each)\n",
    "    #print(np.log(each))\n",
    "mean = sum / 7\n",
    "\n",
    "log_x = (np.log(np.array(x)) - mean)**2\n",
    "variation = log_x.sum()/7\n",
    "standrad_variation = np.sqrt(variation)\n",
    "print(standrad_variation)"
   ]
  },
  {
   "cell_type": "code",
   "execution_count": 211,
   "metadata": {},
   "outputs": [],
   "source": [
    "import matplotlib.pyplot as plt"
   ]
  },
  {
   "cell_type": "code",
   "execution_count": 250,
   "metadata": {},
   "outputs": [
    {
     "data": {
      "image/png": "[encoded data removed]",
      "text/plain": [
       "<Figure size 432x288 with 1 Axes>"
      ]
     },
     "metadata": {
      "needs_background": "light"
     },
     "output_type": "display_data"
    }
   ],
   "source": [
    "X = range(len(x))\n",
    "Y = np.log(np.array(x))\n",
    "plt.axis([0,6, -1,3])\n",
    "plt.plot(X,Y)\n",
    "plt.plot(X, Y-mean)\n",
    "plt.savefig('3-b.png')"
   ]
  }
 ],
 "metadata": {
  "kernelspec": {
   "display_name": "Python 3",
   "language": "python",
   "name": "python3"
  },
  "language_info": {
   "codemirror_mode": {
    "name": "ipython",
    "version": 3
   },
   "file_extension": ".py",
   "mimetype": "text/x-python",
   "name": "python",
   "nbconvert_exporter": "python",
   "pygments_lexer": "ipython3",
   "version": "3.7.4"
  }
 },
 "nbformat": 4,
 "nbformat_minor": 4
}
